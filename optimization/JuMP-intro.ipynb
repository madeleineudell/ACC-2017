{
 "cells": [
  {
   "cell_type": "markdown",
   "metadata": {},
   "source": [
    "# Introduction to JuMP\n",
    "## Madeleine Udell | ACC 2017\n",
    "\n",
    "Modified from [Shumovoy Das Gupta, Getting Started with JuMP](https://github.com/JuliaOpt/juliaopt-notebooks/blob/master/notebooks/Shuvomoy%20-%20Getting%20started%20with%20JuMP.ipynb)"
   ]
  },
  {
   "cell_type": "markdown",
   "metadata": {},
   "source": [
    "# Installation\n",
    "\n",
    "### Installing JuMP\n",
    " \n",
    "Add the JuMP package by running the following code in the notebook:"
   ]
  },
  {
   "cell_type": "code",
   "execution_count": 1,
   "metadata": {
    "collapsed": false
   },
   "outputs": [
    {
     "name": "stderr",
     "output_type": "stream",
     "text": [
      "\u001b[1m\u001b[34mINFO: Nothing to be done\n",
      "\u001b[0m\u001b[1m\u001b[34mINFO: METADATA is out-of-date — you may not have the latest version of JuMP\n",
      "\u001b[0m\u001b[1m\u001b[34mINFO: Use `Pkg.update()` to get the latest versions of your packages\n",
      "\u001b[0m"
     ]
    }
   ],
   "source": [
    "Pkg.add(\"JuMP\")"
   ]
  },
  {
   "cell_type": "markdown",
   "metadata": {},
   "source": [
    "We need to install a solver package. Let's install the open source solvers GLPK, Cbc and Clp by typing in `Pkg.add(\"GLPKMathProgInterface\")`, `Pkg.add(\"Cbc\")` and `Pkg.add(\"Clp\")` respectively. Let's add the Julia package associated with CPLEX by typing in `Pkg.add(\"CPLEX\")`. The other choices are `\"CPLEX\"`, `\"Cbc\"`, `\"Clp\"`, `\"Gurobi\"`, `\"Xpress\"` and `\"MOSEK\"`. \n",
    "\n",
    "It should be noted that, in order to use commercial solvers such as CPLEX, Gurobi, Xpress and Mosek in JuMP, we will require working installations of them with appropriate licences. Both Gurobi and Mosek are free for academic use. CPLEX is free for faculty members and graduate teaching assistants. "
   ]
  },
  {
   "cell_type": "code",
   "execution_count": 2,
   "metadata": {
    "collapsed": false
   },
   "outputs": [
    {
     "name": "stderr",
     "output_type": "stream",
     "text": [
      "\u001b[1m\u001b[34mINFO: Nothing to be done\n",
      "\u001b[0m\u001b[1m\u001b[34mINFO: METADATA is out-of-date — you may not have the latest version of GLPKMathProgInterface\n",
      "\u001b[0m\u001b[1m\u001b[34mINFO: Use `Pkg.update()` to get the latest versions of your packages\n",
      "\u001b[0m"
     ]
    }
   ],
   "source": [
    "Pkg.add(\"GLPKMathProgInterface\")"
   ]
  },
  {
   "cell_type": "markdown",
   "metadata": {},
   "source": [
    "# The very first example\n",
    "\n",
    "At first let us try to solve a very simple and trivial optimization problem using JuMP to check if everything is working properly. \n",
    "\n",
    "\n",
    "\\begin{align}\n",
    "\\text{minimize} \\qquad & x+y \\\\\n",
    " \\text{subject to} \\quad \\quad & x+y \\leq 1 \\\\\n",
    " \\qquad \\qquad & x \\geq 0, y \\geq 0 \\\\\n",
    " \\qquad \\qquad & x,y \\in \\mathbb{R}\n",
    "\\end{align}\n",
    "\n",
    "\n",
    "Here is the JuMP code to solve the mentioned problem:"
   ]
  },
  {
   "cell_type": "code",
   "execution_count": 3,
   "metadata": {
    "collapsed": false
   },
   "outputs": [
    {
     "name": "stdout",
     "output_type": "stream",
     "text": [
      "The optimization problem to be solved is:\n",
      "Min x + y\n",
      "Subject to\n",
      " x + y ≤ 1\n",
      " x ≥ 0\n",
      " y ≥ 0\n",
      "Objective value: 0.0\n",
      "x = 0.0\n",
      "y = 0.0\n"
     ]
    }
   ],
   "source": [
    "using JuMP\n",
    "\n",
    "using GLPKMathProgInterface # Load the GLPK solver\n",
    "\n",
    "\n",
    "#MODEL CONSTRUCTION\n",
    "#--------------------\n",
    "\n",
    "myModel = Model(solver=GLPKSolverLP()) \n",
    "# Name of the model object. All constraints and variables of an optimization problem are associated \n",
    "# with a particular model object. The name of the model object does not have to be myModel, it can be yourModel too! The argument of Model,\n",
    "# solver=GLPKsolverLP() means that to solve the optimization problem we will use GLPK solver.\n",
    "\n",
    "#VARIABLES\n",
    "#---------\n",
    "\n",
    "# A variable is modelled using @variable(name of the model object, variable name and bound, variable type)\n",
    "# Bound can be lower bound, upper bound or both. If no variable type is defined, then it is treated as \n",
    "#real. For binary variable write Bin and for integer use Int.\n",
    "\n",
    "@variable(myModel, x >= 0) # Models x >=0\n",
    "\n",
    "# Some possible variations:\n",
    "# @variable(myModel, x, Binary) # No bound on x present, but x is a binary variable now\n",
    "# @variable(myModel, x <= 10) # This one defines a variable with lower bound x <= 10\n",
    "# @variable(myModel, 0 <= x <= 10, Int) # This one has both lower and upper bound, and x is an integer\n",
    "\n",
    "@variable(myModel, y >= 0) # Models y >= 0\n",
    "\n",
    "#OBJECTIVE\n",
    "#---------\n",
    "\n",
    "@objective(myModel, Min, x + y) # Sets the objective to be minimized. For maximization use Max\n",
    "\n",
    "#CONSTRAINTS\n",
    "#-----------\n",
    "\n",
    "@constraint(myModel, x + y <= 1) # Adds the constraint x + y <= 1\n",
    "\n",
    "#THE MODEL IN A HUMAN-READABLE FORMAT\n",
    "#------------------------------------\n",
    "println(\"The optimization problem to be solved is:\")\n",
    "print(myModel) # Shows the model constructed in a human-readable form\n",
    "\n",
    "#SOLVE IT AND DISPLAY THE RESULTS\n",
    "#--------------------------------\n",
    "status = solve(myModel) # solves the model  \n",
    "\n",
    "println(\"Objective value: \", getobjectivevalue(myModel)) # getObjectiveValue(model_name) gives the optimum objective value\n",
    "println(\"x = \", getvalue(x)) # getValue(decision_variable) will give the optimum value of the associated decision variable\n",
    "println(\"y = \", getvalue(y))"
   ]
  },
  {
   "cell_type": "markdown",
   "metadata": {},
   "source": [
    "# Structure of a JuMP model\n",
    "\n",
    "Any JuMP model that describes an optimization problem has four parts: \n",
    "\n",
    "- **Model Object**, \n",
    "- **Variables**, \n",
    "- **Objective**, \n",
    "- **Constraints**.\n",
    "\n",
    "## Model\n",
    "\n",
    "Any instance of an optimization problem corresponds to a model object. This model object is associated with all the variables, constraints and objective of the instance. It is constructed using `modelName = Model(solver=`*solver of our preference*`)`. If no solver is specified, then `ClpSolver()` and/or `CbcSolver()` will be used by default. Here `modelName` is any valid name. We will limit ourselves in the open source solvers such as:\n",
    "\n",
    "* Linear Programming Solver: `ClpSolver(), GLPKSolverLP()`\n",
    "* Mixed Integer Programming Solver: `GLPKSolverMIP() CbcSolver()`\n"
   ]
  },
  {
   "cell_type": "code",
   "execution_count": 6,
   "metadata": {
    "collapsed": false
   },
   "outputs": [
    {
     "data": {
      "text/latex": [
       "$$ \\begin{alignat*}{1}\\min\\quad & 0\\\\\n",
       "\\text{Subject to} \\quad\\end{alignat*}\n",
       " $$"
      ],
      "text/plain": [
       "Feasibility problem with:\n",
       " * 0 linear constraints\n",
       " * 0 variables\n",
       "Solver is default solver"
      ]
     },
     "execution_count": 6,
     "metadata": {},
     "output_type": "execute_result"
    }
   ],
   "source": [
    "using JuMP\n",
    "myModel = Model() # ClpSolver() and/or CbcSolver() will be used based on the problem"
   ]
  },
  {
   "cell_type": "markdown",
   "metadata": {},
   "source": [
    "\n",
    "## Variables\n",
    "Variables are defined using `@variable` macro, which takes up to three input arguments. The *first* argument is the name of the model. Then the *second* argument contains the name of the variable, and a bound on the variable if it exists. The *third* argument is not needed if the variable is real. When the variable is binary or integer, then `Bin` or `Int`, respectively, is used in place of the third argument.\n",
    "\n",
    "<img src=\"http://scg.utoronto.ca/~shuvomoy.dasgupta/Miscellaneous/JuMPTutorial/variables.png\">\n",
    "\n",
    "### Examples of Variables\n",
    "Suppose the model object is `myModel`. "
   ]
  },
  {
   "cell_type": "markdown",
   "metadata": {},
   "source": [
    "- To describe a variable $z \\in \\mathbb{R}$ such that $0 \\leq z \\leq 10$\n",
    "write"
   ]
  },
  {
   "cell_type": "code",
   "execution_count": 7,
   "metadata": {
    "collapsed": false
   },
   "outputs": [
    {
     "data": {
      "text/latex": [
       "$$ z $$"
      ],
      "text/plain": [
       "z"
      ]
     },
     "execution_count": 7,
     "metadata": {},
     "output_type": "execute_result"
    }
   ],
   "source": [
    "@variable(myModel, 0 <= z <= 10)"
   ]
  },
  {
   "cell_type": "markdown",
   "metadata": {},
   "source": [
    "- Now consider a decision variable $x \\in \\mathbb{R}^n$, and it has a bound $l \\preceq x \\preceq u$, where naturally $l, u \\in \\mathbb{R}^n$.  For that we write <br>\n"
   ]
  },
  {
   "cell_type": "code",
   "execution_count": 8,
   "metadata": {
    "collapsed": false
   },
   "outputs": [
    {
     "data": {
      "text/plain": [
       "10-element Array{Int64,1}:\n",
       " 10\n",
       " 11\n",
       " 12\n",
       " 13\n",
       " 14\n",
       " 15\n",
       " 16\n",
       " 17\n",
       " 18\n",
       " 19"
      ]
     },
     "execution_count": 8,
     "metadata": {},
     "output_type": "execute_result"
    }
   ],
   "source": [
    "# INPUT DATA, CHANGE THEM TO YOUR REQUIREMENT\n",
    "#-------------------------------------------\n",
    "n = 10\n",
    "l = [1; 2; 3; 4; 5; 6; 7; 8; 9; 10]\n",
    "u = [10; 11; 12; 13; 14; 15; 16; 17; 18; 19]"
   ]
  },
  {
   "cell_type": "code",
   "execution_count": 9,
   "metadata": {
    "collapsed": false
   },
   "outputs": [
    {
     "data": {
      "text/latex": [
       "$$ \\dots \\leq x_{i} \\leq \\dots \\quad\\forall i \\in \\{1,2,\\dots,9,10\\} $$"
      ],
      "text/plain": [
       "10-element Array{JuMP.Variable,1}:\n",
       " x[1] \n",
       " x[2] \n",
       " x[3] \n",
       " x[4] \n",
       " x[5] \n",
       " x[6] \n",
       " x[7] \n",
       " x[8] \n",
       " x[9] \n",
       " x[10]"
      ]
     },
     "execution_count": 9,
     "metadata": {},
     "output_type": "execute_result"
    }
   ],
   "source": [
    "# VARIABLE DEFINITION\n",
    "# ------------------- \n",
    "@variable(myModel, l[i] <= x[i=1:n] <= u[i])\n"
   ]
  },
  {
   "cell_type": "markdown",
   "metadata": {},
   "source": [
    "- Suppose we have decision variables $x \\in \\mathbb{R}^n$, $y \\in \\mathbb{Z}^m$ and $z \\in \\mathbb \\{0,1\\}^p$ such that $x \\succeq 0$, $a \\preceq y \\preceq b$. Here $a, b \\in \\mathbb{Z}^m$. To express this in JuMP we write"
   ]
  },
  {
   "cell_type": "code",
   "execution_count": 10,
   "metadata": {
    "collapsed": false
   },
   "outputs": [
    {
     "data": {
      "text/plain": [
       "3-element Array{Int64,1}:\n",
       " 3\n",
       " 4\n",
       " 7"
      ]
     },
     "execution_count": 10,
     "metadata": {},
     "output_type": "execute_result"
    }
   ],
   "source": [
    "# INPUT DATA, CHANGE THEM TO YOUR REQUIREMENT\n",
    "#-------------------------------------------\n",
    "n = 4 # dimension of x\n",
    "m = 3 # dimension of y\n",
    "p = 2 # dimensin of z\n",
    "a = [0; 1; 2]\n",
    "b = [3; 4; 7]"
   ]
  },
  {
   "cell_type": "code",
   "execution_count": 11,
   "metadata": {
    "collapsed": false
   },
   "outputs": [
    {
     "data": {
      "text/latex": [
       "$$ w_{i} \\geq 0 \\quad\\forall i \\in \\{1,2,3,4\\} $$"
      ],
      "text/plain": [
       "4-element Array{JuMP.Variable,1}:\n",
       " w[1]\n",
       " w[2]\n",
       " w[3]\n",
       " w[4]"
      ]
     },
     "execution_count": 11,
     "metadata": {},
     "output_type": "execute_result"
    }
   ],
   "source": [
    "# VARIABLE DEFINITION\n",
    "# -------------------\n",
    "@variable(myModel, w[i=1:n] >= 0)"
   ]
  },
  {
   "cell_type": "code",
   "execution_count": 12,
   "metadata": {
    "collapsed": false
   },
   "outputs": [
    {
     "data": {
      "text/latex": [
       "$$ \\dots \\leq y_{i} \\leq \\dots, \\in \\mathbb{Z}, \\quad\\forall i \\in \\{1,2,3\\} $$"
      ],
      "text/plain": [
       "3-element Array{JuMP.Variable,1}:\n",
       " y[1]\n",
       " y[2]\n",
       " y[3]"
      ]
     },
     "execution_count": 12,
     "metadata": {},
     "output_type": "execute_result"
    }
   ],
   "source": [
    "@variable(myModel, a[i] <= y[i=1:m] <= b[i], Int)"
   ]
  },
  {
   "cell_type": "code",
   "execution_count": 13,
   "metadata": {
    "collapsed": false
   },
   "outputs": [
    {
     "name": "stderr",
     "output_type": "stream",
     "text": [
      "\u001b[1m\u001b[31mWARNING: A variable named z is already attached to this model. If creating variables programmatically, consider using the anonymous variable syntax x = @variable(m, [1:N], ...).\u001b[0m\n"
     ]
    },
    {
     "data": {
      "text/latex": [
       "$$ z_{i} \\in \\{0,1\\} \\quad\\forall i \\in \\{1,2\\} $$"
      ],
      "text/plain": [
       "2-element Array{JuMP.Variable,1}:\n",
       " z[1]\n",
       " z[2]"
      ]
     },
     "execution_count": 13,
     "metadata": {},
     "output_type": "execute_result"
    }
   ],
   "source": [
    "@variable(myModel, z[i=1:p], Bin)"
   ]
  },
  {
   "cell_type": "markdown",
   "metadata": {},
   "source": [
    "## Constraints\n",
    "Constraints are added by using `@constraint` macro. The first argument is the model object the constraint is associated with, the second argument is the reference to that constraint and the third argument is the constraint description. The constraint reference comes handy when we want to manipulate the constraint later or access the dual variables associated with it. If no constraint reference is needed, then the second argument is the constraint description. <br>"
   ]
  },
  {
   "cell_type": "markdown",
   "metadata": {},
   "source": [
    "### Examples of Constraints\n",
    "Let's give some examples on writing constraints in JuMP. Suppose the model name is `yourModel`."
   ]
  },
  {
   "cell_type": "code",
   "execution_count": 12,
   "metadata": {
    "collapsed": false
   },
   "outputs": [
    {
     "data": {
      "text/latex": [
       "$$ \\begin{alignat*}{1}\\min\\quad & 0\\\\\n",
       "\\text{Subject to} \\quad\\end{alignat*}\n",
       " $$"
      ],
      "text/plain": [
       "Feasibility problem with:\n",
       " * 0 linear constraints\n",
       " * 0 variables\n",
       "Solver is default solver"
      ]
     },
     "execution_count": 12,
     "metadata": {},
     "output_type": "execute_result"
    }
   ],
   "source": [
    "yourModel = Model()"
   ]
  },
  {
   "cell_type": "markdown",
   "metadata": {},
   "source": [
    "1. Consider variables $x, y \\in \\mathbb{R}$ which are coupled by the constraints $5 x +3 y \\leq 5$. We write this as <br>\n",
    "`@constraint(yourModel, 5*x + 3*y <= 5)` <br>\n",
    "Naturally, `x` and `y` have to be defined first using `@variable` macro."
   ]
  },
  {
   "cell_type": "code",
   "execution_count": 13,
   "metadata": {
    "collapsed": false
   },
   "outputs": [
    {
     "data": {
      "text/latex": [
       "$$ 5 x + 3 y \\leq 5 $$"
      ],
      "text/plain": [
       "5 x + 3 y ≤ 5"
      ]
     },
     "execution_count": 13,
     "metadata": {},
     "output_type": "execute_result"
    }
   ],
   "source": [
    "@variable(yourModel, x)\n",
    "@variable(yourModel, y)\n",
    "@constraint(yourModel, 5*x + 3*y <= 5)"
   ]
  },
  {
   "cell_type": "markdown",
   "metadata": {},
   "source": [
    " Here no constraint reference is given. Now suppose we want to get the dual value of some constraint after solving the problem, then we would need a constraint reference to assign to the constraint first. Let's call the constraint reference as `conRef1` (it could be any valid name). Then the same constraint have to be written as: <br>\n",
    "`@constraint(yourModel, conRef1, 6*x + 4*y >= 5)` <br>\n",
    "When we would need the dual value after solving the problem we just write `println(getDual(conRef1))`. <br>"
   ]
  },
  {
   "cell_type": "code",
   "execution_count": 14,
   "metadata": {
    "collapsed": false
   },
   "outputs": [
    {
     "data": {
      "text/latex": [
       "$$ 6 x + 4 y \\geq 5 $$"
      ],
      "text/plain": [
       "6 x + 4 y ≥ 5"
      ]
     },
     "execution_count": 14,
     "metadata": {},
     "output_type": "execute_result"
    }
   ],
   "source": [
    "@constraint(yourModel, conRef1, 6*x + 4*y >= 5) "
   ]
  },
  {
   "cell_type": "markdown",
   "metadata": {},
   "source": [
    "2. Consider a variable $x \\in \\mathbb{R}^4$, a coefficient vector $a=(1, -3, 5, -7)$ We want to write a constraint of the form $\\sum_{i=1}^4{a_i x_i} \\leq 3$. In JuMP we write:<br>\n"
   ]
  },
  {
   "cell_type": "code",
   "execution_count": 15,
   "metadata": {
    "collapsed": false
   },
   "outputs": [
    {
     "data": {
      "text/latex": [
       "$$ w_{1} - 3 w_{2} + 5 w_{3} + 7 w_{4} \\leq 3 $$"
      ],
      "text/plain": [
       "w[1] - 3 w[2] + 5 w[3] + 7 w[4] ≤ 3"
      ]
     },
     "execution_count": 15,
     "metadata": {},
     "output_type": "execute_result"
    }
   ],
   "source": [
    "a = [1; -3; 5; 7] \n",
    "@variable(yourModel, w[1:4])\n",
    "@constraint(yourModel, sum(a[i]*w[i] for i in 1:4) <= 3)"
   ]
  },
  {
   "cell_type": "markdown",
   "metadata": {},
   "source": [
    "## Objective\n",
    "Objective is set using `@objective` macro. It has three arguments. The first argument is as usual the model object. The second one is either `Max` if we want to maximize the objective function, or `Min` when we want to minimize. The last argument is the description of the objective which has similar syntax to that of constraint definition.\n",
    "\n",
    "### Example of objective\n",
    "For the previous model, consider the decision variable $w \\in \\mathbb{R}^4$ and cost vector $c = (2, 3 , 4, 5)$. We want to minimize $c^T w$. In JuMP we would write:"
   ]
  },
  {
   "cell_type": "code",
   "execution_count": 16,
   "metadata": {
    "collapsed": false
   },
   "outputs": [
    {
     "data": {
      "text/latex": [
       "$$ 2 w_{1} + 3 w_{2} + 4 w_{3} + 5 w_{4} $$"
      ],
      "text/plain": [
       "2 w[1] + 3 w[2] + 4 w[3] + 5 w[4]"
      ]
     },
     "execution_count": 16,
     "metadata": {},
     "output_type": "execute_result"
    }
   ],
   "source": [
    "c = [2; 3; 4; 5] \n",
    "@objective(yourModel, Min, sum(c[i]*w[i] for i in 1:4))"
   ]
  },
  {
   "cell_type": "markdown",
   "metadata": {},
   "source": [
    "## Solving a standard form Linear Programming \n",
    "problem\n",
    "Let us try to write the JuMP code for the following standard form optimization problem:\n",
    "\n",
    "$$\n",
    "\\begin{align}\n",
    "& \\text{minimize} && c^T x \\\\\n",
    "& \\text{subject to} && A x = b \\\\\n",
    "&                   && x \\succeq 0 \\\\\n",
    "&                   && x \\in \\mathbb{R}^n\n",
    "\\end{align}\n",
    "$$\n",
    "\n",
    "\n",
    "where, $n = 4$, $c=(1, 3, 5, 2)$, $A = \\begin{pmatrix}\n",
    "  1 & 1 & 9 & 5 \\\\\n",
    "  3 & 5 & 0 & 8 \\\\\n",
    "  2 & 0 & 6 & 13\n",
    " \\end{pmatrix}$ and $b=(7, 3, 5)$. The symbol $\\succeq$ ($\\preceq$) stands for element-wise greater (less) than or equal to.\n",
    "\n",
    "### Entering different parts of the code one by one\n",
    "Let us input different parts of the JuMP code one by one and see the corresponding outputs to detect if everything is okay. Of course we could input the whole code at once."
   ]
  },
  {
   "cell_type": "code",
   "execution_count": 17,
   "metadata": {
    "collapsed": false
   },
   "outputs": [],
   "source": [
    "using JuMP\n",
    "\n",
    "using GLPKMathProgInterface # Loading the GLPK solver\n"
   ]
  },
  {
   "cell_type": "code",
   "execution_count": 18,
   "metadata": {
    "collapsed": false
   },
   "outputs": [
    {
     "data": {
      "text/latex": [
       "$$ \\begin{alignat*}{1}\\min\\quad & 0\\\\\n",
       "\\text{Subject to} \\quad\\end{alignat*}\n",
       " $$"
      ],
      "text/plain": [
       "Feasibility problem with:\n",
       " * 0 linear constraints\n",
       " * 0 variables\n",
       "Solver is GLPKInterfaceLP"
      ]
     },
     "execution_count": 18,
     "metadata": {},
     "output_type": "execute_result"
    }
   ],
   "source": [
    "#MODEL CONSTRUCTION\n",
    "#------------------\n",
    "\n",
    "sfLpModel = Model(solver=GLPKSolverLP()) # Name of the model object"
   ]
  },
  {
   "cell_type": "code",
   "execution_count": 19,
   "metadata": {
    "collapsed": false
   },
   "outputs": [
    {
     "data": {
      "text/plain": [
       "(3,4)"
      ]
     },
     "execution_count": 19,
     "metadata": {},
     "output_type": "execute_result"
    }
   ],
   "source": [
    "#INPUT DATA\n",
    "#----------\n",
    "\n",
    "c = [1; 3; 5; 2] \n",
    "\n",
    "A= [\n",
    "     1 1 9 5;\n",
    "     3 5 0 8;\n",
    "     2 0 6 13\n",
    "    ]\n",
    "\n",
    "b = [7; 3; 5] \n",
    "\n",
    "m, n = size(A) # m = number of rows of A, n = number of columns of A"
   ]
  },
  {
   "cell_type": "code",
   "execution_count": 20,
   "metadata": {
    "collapsed": false
   },
   "outputs": [
    {
     "data": {
      "text/latex": [
       "$$ x_{i} \\geq 0 \\quad\\forall i \\in \\{1,2,3,4\\} $$"
      ],
      "text/plain": [
       "4-element Array{JuMP.Variable,1}:\n",
       " x[1]\n",
       " x[2]\n",
       " x[3]\n",
       " x[4]"
      ]
     },
     "execution_count": 20,
     "metadata": {},
     "output_type": "execute_result"
    }
   ],
   "source": [
    "#VARIABLES\n",
    "#---------\n",
    "\n",
    "@variable(sfLpModel, x[1:n] >= 0) # Models x >=0\n"
   ]
  },
  {
   "cell_type": "code",
   "execution_count": 21,
   "metadata": {
    "collapsed": false
   },
   "outputs": [],
   "source": [
    "#CONSTRAINTS\n",
    "#-----------\n",
    "\n",
    "for i in 1:m # for all rows do the following\n",
    "    @constraint(sfLpModel, sum(A[i,j]*x[j] for j in 1:n) == b[i]) # the ith row \n",
    "    # of A*x is equal to the ith component of b\n",
    "end # end of the for loop"
   ]
  },
  {
   "cell_type": "code",
   "execution_count": 22,
   "metadata": {
    "collapsed": false
   },
   "outputs": [
    {
     "data": {
      "text/latex": [
       "$$ x_{1} + 3 x_{2} + 5 x_{3} + 2 x_{4} $$"
      ],
      "text/plain": [
       "x[1] + 3 x[2] + 5 x[3] + 2 x[4]"
      ]
     },
     "execution_count": 22,
     "metadata": {},
     "output_type": "execute_result"
    }
   ],
   "source": [
    "#OBJECTIVE\n",
    "#---------\n",
    "\n",
    "@objective(sfLpModel, Min, sum(c[j]*x[j] for j in 1:n)) # minimize c'x "
   ]
  },
  {
   "cell_type": "code",
   "execution_count": 23,
   "metadata": {
    "collapsed": false
   },
   "outputs": [
    {
     "name": "stdout",
     "output_type": "stream",
     "text": [
      "The optimization problem to be solved is:\n",
      "Min x[1] + 3 x[2] + 5 x[3] + 2 x[4]\n",
      "Subject to\n",
      " x[1] + x[2] + 9 x[3] + 5 x[4] = 7\n",
      " 3 x[1] + 5 x[2] + 8 x[4] = 3\n",
      " 2 x[1] + 6 x[3] + 13 x[4] = 5\n",
      " x[i] ≥ 0 ∀ i ∈ {1,2,3,4}\n"
     ]
    }
   ],
   "source": [
    "#THE MODEL IN A HUMAN-READABLE FORMAT\n",
    "#------------------------------------\n",
    "\n",
    "println(\"The optimization problem to be solved is:\")\n",
    "print(sfLpModel) # Shows the model constructed in a human-readable form"
   ]
  },
  {
   "cell_type": "code",
   "execution_count": 24,
   "metadata": {
    "collapsed": false
   },
   "outputs": [
    {
     "data": {
      "text/plain": [
       ":Optimal"
      ]
     },
     "execution_count": 24,
     "metadata": {},
     "output_type": "execute_result"
    }
   ],
   "source": [
    "status = solve(sfLpModel) # solves the model  "
   ]
  },
  {
   "cell_type": "code",
   "execution_count": 25,
   "metadata": {
    "collapsed": false
   },
   "outputs": [
    {
     "name": "stdout",
     "output_type": "stream",
     "text": [
      "Objective value: 4.923076923076923\n",
      "Optimal solution is x = \n",
      "[0.423077,0.346154,0.692308,0.0]\n"
     ]
    }
   ],
   "source": [
    "#SOLVE IT AND DISPLAY THE RESULTS\n",
    "#--------------------------------\n",
    "\n",
    "println(\"Objective value: \", getobjectivevalue(sfLpModel)) # getObjectiveValue(model_name) gives the optimum objective value\n",
    "\n",
    "println(\"Optimal solution is x = \\n\", getvalue(x)) # getValue(decision_variable) will give the optimum value \n",
    "                                                   # of the associated decision variable\n"
   ]
  },
  {
   "cell_type": "markdown",
   "metadata": {},
   "source": [
    "## Solving a standard form Mixed Integer Programming Problem\n",
    "\n",
    "Let us try to write the JuMP code for the following standard form optimization problem:\n",
    "\n",
    "$$\n",
    "\\begin{align}\n",
    "& \\text{minimize} && c^T x + d^T y\\\\\n",
    "& \\text{subject to} && A x + B y= f \\\\\n",
    " &                   && x \\succeq 0, y \\succeq 0 \\\\\n",
    " &                   && x \\in \\mathbb{R}^n, y \\in \\mathbb{Z}^p\n",
    "\\end{align}\n",
    "$$\n",
    "\n",
    "Here, $A \\in \\mathbb{R}^{m \\times n}, B \\in \\mathbb{R}^{m \\times p}, c \\in \\mathbb{R}^n, d \\in \\mathbb{R}^p, f \\in \\mathbb{R}^m$. The data were randomly generated. The symbol $\\succeq$ ($\\preceq$) stands for element-wise greater (less) than or equal to."
   ]
  },
  {
   "cell_type": "code",
   "execution_count": 26,
   "metadata": {
    "collapsed": false
   },
   "outputs": [
    {
     "data": {
      "text/plain": [
       "3-element Array{Float64,1}:\n",
       " 0.1716\n",
       " 0.361 \n",
       " 0.0705"
      ]
     },
     "execution_count": 26,
     "metadata": {},
     "output_type": "execute_result"
    }
   ],
   "source": [
    "n = 5\n",
    "p = 4\n",
    "m = 3\n",
    "A=\n",
    "[0.7511 -0.1357   0.7955  -0.4567 0.1356\n",
    "-0.6670 -0.3326   0.1657  -0.5519 -0.9367\n",
    " 1.5894 -0.1302  -0.4313  -0.4875  0.4179]\n",
    "\n",
    "B=\n",
    "[-0.09520 -0.28056 -1.33978 0.6506\n",
    " -0.8581  -0.3518   1.2788  1.5114\n",
    " -0.5925  1.3477    0.1589  0.03495]\n",
    "\n",
    "c=[0.3468,0.8687,0.1200,0.5024,0.2884]\n",
    "\n",
    "d=[0.2017,0.2712,0.4997,0.9238]\n",
    "\n",
    "f = [0.1716,0.3610,0.0705]\n"
   ]
  },
  {
   "cell_type": "code",
   "execution_count": 27,
   "metadata": {
    "collapsed": false
   },
   "outputs": [
    {
     "name": "stdout",
     "output_type": "stream",
     "text": [
      "Min 0.3468 x[1] + 0.8687 x[2] + 0.12 x[3] + 0.5024 x[4] + 0.2884 x[5] + 0.2017 y[1] + 0.2712 y[2] + 0.4997 y[3] + 0.9238 y[4]\n",
      "Subject to\n",
      " 0.7511 x[1] - 0.1357 x[2] + 0.7955 x[3] - 0.4567 x[4] + 0.1356 x[5] - 0.0952 y[1] - 0.28056 y[2] - 1.33978 y[3] + 0.6506 y[4] = 0.1716\n",
      " -0.667 x[1] - 0.3326 x[2] + 0.1657 x[3] - 0.5519 x[4] - 0.9367 x[5] - 0.8581 y[1] - 0.3518 y[2] + 1.2788 y[3] + 1.5114 y[4] = 0.361\n",
      " 1.5894 x[1] - 0.1302 x[2] - 0.4313 x[3] - 0.4875 x[4] + 0.4179 x[5] - 0.5925 y[1] + 1.3477 y[2] + 0.1589 y[3] + 0.03495 y[4] = 0.0705\n",
      " x[i] ≥ 0 ∀ i ∈ {1,2,3,4,5}\n",
      " y[i] ≥ 0, integer, ∀ i ∈ {1,2,3,4}\n",
      "\n",
      "Status of the problem is Optimal\n"
     ]
    },
    {
     "name": "stderr",
     "output_type": "stream",
     "text": [
      "\u001b[1m\u001b[31mWARNING: getObjectiveValue is deprecated, use getobjectivevalue instead.\u001b[0m\n",
      " in depwarn(::String, ::Symbol) at ./deprecated.jl:64\n",
      " in getObjectiveValue(::JuMP.Model, ::Vararg{JuMP"
     ]
    },
    {
     "name": "stdout",
     "output_type": "stream",
     "text": [
      "Optimal objective value = 1.070277955983598\n",
      "Optimal x = [0.0654907,0.0,1.62986,0.0,1.22151]\n",
      "Optimal y = [0.0,0.0,1.0,0.0]"
     ]
    },
    {
     "name": "stderr",
     "output_type": "stream",
     "text": [
      ".Model,N}) at ./deprecated.jl:30\n",
      " in include_string(::String, ::String) at ./loading.jl:441\n",
      " in execute_request(::ZMQ.Socket, ::IJulia.Msg) at /Users/madeleine/.julia/v0.5/IJulia/src/execute_request.jl:157\n",
      " in eventloop(::ZMQ.Socket) at /Users/madeleine/.julia/v0.5/IJulia/src/eventloop.jl:8\n",
      " in (::IJulia.##13#19)() at ./task.jl:360\n",
      "while loading In[27], in expression starting on line 20\n"
     ]
    }
   ],
   "source": [
    "using JuMP\n",
    "using GLPKMathProgInterface\n",
    "\n",
    "sfMipModel = Model(solver = GLPKSolverMIP())\n",
    "\n",
    "@variable(sfMipModel, x[1:n] >=0)\n",
    "@variable(sfMipModel, y[1:p] >= 0, Int)\n",
    "\n",
    "@objective(sfMipModel, Min, sum(c[i] * x[i] for i in 1:n)+sum(d[i]*y[i] for i in 1:p))\n",
    "\n",
    "for i in 1:m\n",
    "    @constraint(sfMipModel, sum(A[i,j]*x[j] for j in 1:n)+ sum(B[i,j]*y[j] for j in 1:p) == f[i])\n",
    "end\n",
    "\n",
    "print(sfMipModel, \"\\n\")\n",
    "statusMipModel = solve(sfMipModel)\n",
    "print(\"Status of the problem is \", statusMipModel, \"\\n\")\n",
    "\n",
    "if statusMipModel == :Optimal\n",
    "    print(\"Optimal objective value = \", getObjectiveValue(sfMipModel), \"\\nOptimal x = \", getValue(x), \"\\nOptimal y = \", getValue(y))\n",
    "end"
   ]
  },
  {
   "cell_type": "markdown",
   "metadata": {},
   "source": [
    "# Reference\n",
    "\n",
    "[1] M. Lubin and I. Dunning, “Computing in Operations Research using Julia”, INFORMS Journal on Computing, to appear, 2014. [arXiv:1312.1431](http://arxiv.org/abs/1312.1431)"
   ]
  }
 ],
 "metadata": {
  "kernelspec": {
   "display_name": "Julia 0.5.0",
   "language": "julia",
   "name": "julia-0.5"
  },
  "language_info": {
   "file_extension": ".jl",
   "mimetype": "application/julia",
   "name": "julia",
   "version": "0.5.0"
  }
 },
 "nbformat": 4,
 "nbformat_minor": 0
}
