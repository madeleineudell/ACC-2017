{
 "cells": [
  {
   "cell_type": "markdown",
   "metadata": {},
   "source": [
    "# Convex Optimization in Julia\n",
    "\n",
    "## Madeleine Udell | ACC 2017"
   ]
  },
  {
   "cell_type": "code",
   "execution_count": 1,
   "metadata": {
    "collapsed": false
   },
   "outputs": [
    {
     "name": "stderr",
     "output_type": "stream",
     "text": [
      "\u001b[1m\u001b[34mINFO: Nothing to be done\n",
      "\u001b[0m\u001b[1m\u001b[34mINFO: METADATA is out-of-date — you may not have the latest version of Convex\n",
      "\u001b[0m\u001b[1m\u001b[34mINFO: Use `Pkg.update()` to get the latest versions of your packages\n",
      "\u001b[0m\u001b[1m\u001b[34mINFO: Nothing to be done\n",
      "\u001b[0m\u001b[1m\u001b[34mINFO: METADATA is out-of-date — you may not have the latest version of SCS\n",
      "\u001b[0m\u001b[1m\u001b[34mINFO: Use `Pkg.update()` to get the latest versions of your packages\n",
      "\u001b[0m"
     ]
    }
   ],
   "source": [
    "# initial package installation\n",
    "Pkg.add(\"Convex\")\n",
    "Pkg.add(\"SCS\")"
   ]
  },
  {
   "cell_type": "code",
   "execution_count": 2,
   "metadata": {
    "collapsed": false
   },
   "outputs": [
    {
     "name": "stdout",
     "output_type": "stream",
     "text": [
      "problem status is Optimal\n",
      "optimal value is 25.59244672930923\n"
     ]
    }
   ],
   "source": [
    "# Make the Convex.jl module available\n",
    "using Convex\n",
    "using SCS # first order splitting conic solver [O'Donoghue et al., 2014]\n",
    "set_default_solver(SCSSolver(verbose=0)) # could also use Gurobi, Mosek, CPLEX, ...\n",
    "\n",
    "# Generate random problem data\n",
    "m = 50;  n = 100\n",
    "A = randn(m, n)\n",
    "x♮ = sprand(n, 1, .5) # true (sparse nonnegative) parameter vector\n",
    "noise = .1*randn(m)    # gaussian noise\n",
    "b = A*x♮ + noise      # noisy linear observations\n",
    "\n",
    "# Create a (column vector) variable of size n.\n",
    "x = Variable(n)\n",
    "\n",
    "# nonnegative elastic net with regularization\n",
    "λ = 1\n",
    "μ = 1\n",
    "problem = minimize(norm(A * x - b)^2 + λ*norm(x)^2 + μ*norm(x, 1), \n",
    "                   x >= 0)\n",
    "\n",
    "# Solve the problem by calling solve!\n",
    "solve!(problem)\n",
    "\n",
    "println(\"problem status is \", problem.status) # :Optimal, :Infeasible, :Unbounded etc.\n",
    "println(\"optimal value is \", problem.optval)"
   ]
  },
  {
   "cell_type": "markdown",
   "metadata": {
    "slideshow": {
     "slide_type": "slide"
    }
   },
   "source": [
    "# Quick convex prototyping"
   ]
  },
  {
   "cell_type": "markdown",
   "metadata": {
    "slideshow": {
     "slide_type": "subslide"
    }
   },
   "source": [
    "## Variables"
   ]
  },
  {
   "cell_type": "code",
   "execution_count": 3,
   "metadata": {
    "collapsed": false,
    "slideshow": {
     "slide_type": "fragment"
    }
   },
   "outputs": [
    {
     "data": {
      "text/plain": [
       "Variable of\n",
       "size: (1, 1)\n",
       "sign: Convex.Positive()\n",
       "vexity: Convex.AffineVexity()"
      ]
     },
     "execution_count": 3,
     "metadata": {},
     "output_type": "execute_result"
    }
   ],
   "source": [
    "# Scalar variable\n",
    "x = Variable(Positive())"
   ]
  },
  {
   "cell_type": "code",
   "execution_count": 4,
   "metadata": {
    "collapsed": false,
    "slideshow": {
     "slide_type": "fragment"
    }
   },
   "outputs": [
    {
     "data": {
      "text/plain": [
       "Variable of\n",
       "size: (4, 1)\n",
       "sign: Convex.NoSign()\n",
       "vexity: Convex.AffineVexity()"
      ]
     },
     "execution_count": 4,
     "metadata": {},
     "output_type": "execute_result"
    }
   ],
   "source": [
    "# (Column) vector variable\n",
    "y = Variable(4)"
   ]
  },
  {
   "cell_type": "code",
   "execution_count": 5,
   "metadata": {
    "collapsed": false,
    "slideshow": {
     "slide_type": "fragment"
    }
   },
   "outputs": [
    {
     "data": {
      "text/plain": [
       "Variable of\n",
       "size: (4, 4)\n",
       "sign: Convex.NoSign()\n",
       "vexity: Convex.AffineVexity()"
      ]
     },
     "execution_count": 5,
     "metadata": {},
     "output_type": "execute_result"
    }
   ],
   "source": [
    "# Matrix variable\n",
    "Z = Variable(4, 4)"
   ]
  },
  {
   "cell_type": "code",
   "execution_count": 6,
   "metadata": {
    "collapsed": false
   },
   "outputs": [
    {
     "data": {
      "text/plain": [
       "Variable of\n",
       "size: (5, 1)\n",
       "sign: Convex.ComplexSign()\n",
       "vexity: Convex.AffineVexity()"
      ]
     },
     "execution_count": 6,
     "metadata": {},
     "output_type": "execute_result"
    }
   ],
   "source": [
    "# Complex variable\n",
    "c = ComplexVariable(5)"
   ]
  },
  {
   "cell_type": "code",
   "execution_count": 7,
   "metadata": {
    "collapsed": false
   },
   "outputs": [
    {
     "data": {
      "text/plain": [
       "Variable of\n",
       "size: (5, 5)\n",
       "sign: Convex.ComplexSign()\n",
       "vexity: Convex.AffineVexity()"
      ]
     },
     "execution_count": 7,
     "metadata": {},
     "output_type": "execute_result"
    }
   ],
   "source": [
    "# Hermitian variable\n",
    "H = HermitianSemidefinite(5)"
   ]
  },
  {
   "cell_type": "markdown",
   "metadata": {
    "slideshow": {
     "slide_type": "subslide"
    }
   },
   "source": [
    "# Expressions"
   ]
  },
  {
   "cell_type": "markdown",
   "metadata": {
    "slideshow": {
     "slide_type": "subslide"
    }
   },
   "source": [
    "Convex.jl allows you to use a [wide variety of functions](http://convexjl.readthedocs.org/en/latest/operations.html) on variables and on expressions to form new expressions."
   ]
  },
  {
   "cell_type": "code",
   "execution_count": 8,
   "metadata": {
    "collapsed": false,
    "slideshow": {
     "slide_type": "fragment"
    }
   },
   "outputs": [
    {
     "data": {
      "text/plain": [
       "AbstractExpr with\n",
       "head: +\n",
       "size: (1, 1)\n",
       "sign: Convex.Positive()\n",
       "vexity: Convex.AffineVexity()\n"
      ]
     },
     "execution_count": 8,
     "metadata": {},
     "output_type": "execute_result"
    }
   ],
   "source": [
    "x + 2x"
   ]
  },
  {
   "cell_type": "code",
   "execution_count": 9,
   "metadata": {
    "collapsed": false
   },
   "outputs": [
    {
     "data": {
      "text/plain": [
       "AbstractExpr with\n",
       "head: +\n",
       "size: (1, 1)\n",
       "sign: Convex.NoSign()\n",
       "vexity: Convex.ConcaveVexity()\n"
      ]
     },
     "execution_count": 9,
     "metadata": {},
     "output_type": "execute_result"
    }
   ],
   "source": [
    "e = y[1] + logdet(Z) + sqrt(x) + minimum(y)"
   ]
  },
  {
   "cell_type": "markdown",
   "metadata": {},
   "source": [
    "### Examine the expression tree"
   ]
  },
  {
   "cell_type": "code",
   "execution_count": 10,
   "metadata": {
    "collapsed": false,
    "slideshow": {
     "slide_type": "fragment"
    }
   },
   "outputs": [
    {
     "data": {
      "text/plain": [
       "AbstractExpr with\n",
       "head: logdet\n",
       "size: (1, 1)\n",
       "sign: Convex.NoSign()\n",
       "vexity: Convex.ConcaveVexity()\n"
      ]
     },
     "execution_count": 10,
     "metadata": {},
     "output_type": "execute_result"
    }
   ],
   "source": [
    "e.children[2]"
   ]
  },
  {
   "cell_type": "markdown",
   "metadata": {
    "slideshow": {
     "slide_type": "subslide"
    }
   },
   "source": [
    "# Constraints\n",
    "\n",
    "A constraint is convex if convex combinations of feasible points are also feasible. Equivalently, feasible sets are convex sets.\n",
    "\n",
    "In other words, convex constraints are of the form\n",
    "\n",
    "* `convexExpr <= 0`\n",
    "* `concaveExpr >= 0`\n",
    "* `affineExpr == 0`"
   ]
  },
  {
   "cell_type": "code",
   "execution_count": 11,
   "metadata": {
    "collapsed": false,
    "slideshow": {
     "slide_type": "fragment"
    }
   },
   "outputs": [
    {
     "data": {
      "text/plain": [
       "Constraint:\n",
       "<= constraint\n",
       "lhs: Variable of\n",
       "size: (1, 1)\n",
       "sign: Convex.Positive()\n",
       "vexity: Convex.AffineVexity()\n",
       "rhs: 0\n",
       "vexity: Convex.AffineVexity()"
      ]
     },
     "execution_count": 11,
     "metadata": {},
     "output_type": "execute_result"
    }
   ],
   "source": [
    "x <= 0"
   ]
  },
  {
   "cell_type": "code",
   "execution_count": 12,
   "metadata": {
    "collapsed": false
   },
   "outputs": [
    {
     "data": {
      "text/plain": [
       "Constraint:\n",
       "<= constraint\n",
       "lhs: AbstractExpr with\n",
       "head: qol_elem\n",
       "size: (1, 1)\n",
       "sign: Convex.Positive()\n",
       "vexity: Convex.ConvexVexity()\n",
       "\n",
       "rhs: AbstractExpr with\n",
       "head: sum\n",
       "size: (1, 1)\n",
       "sign: Convex.NoSign()\n",
       "vexity: Convex.AffineVexity()\n",
       "\n",
       "vexity: Convex.ConvexVexity()"
      ]
     },
     "execution_count": 12,
     "metadata": {},
     "output_type": "execute_result"
    }
   ],
   "source": [
    "x^2 <= sum(y)"
   ]
  },
  {
   "cell_type": "code",
   "execution_count": 13,
   "metadata": {
    "collapsed": false,
    "slideshow": {
     "slide_type": "fragment"
    }
   },
   "outputs": [
    {
     "data": {
      "text/plain": [
       "Constraint:\n",
       "sdp constraint\n",
       "expression: AbstractExpr with\n",
       "head: +\n",
       "size: (4, 4)\n",
       "sign: Convex.NoSign()\n",
       "vexity: Convex.AffineVexity()\n",
       "\n"
      ]
     },
     "execution_count": 13,
     "metadata": {},
     "output_type": "execute_result"
    }
   ],
   "source": [
    "M = Z \n",
    "for i = 1:length(y)\n",
    "    M += rand(size(Z))*y[i]\n",
    "end\n",
    "M ⪰ 0"
   ]
  },
  {
   "cell_type": "markdown",
   "metadata": {
    "slideshow": {
     "slide_type": "subslide"
    }
   },
   "source": [
    "# Problems"
   ]
  },
  {
   "cell_type": "code",
   "execution_count": 14,
   "metadata": {
    "collapsed": false,
    "scrolled": true,
    "slideshow": {
     "slide_type": "fragment"
    }
   },
   "outputs": [
    {
     "data": {
      "text/plain": [
       "Problem:\n",
       "maximize AbstractExpr with\n",
       "head: +\n",
       "size: (1, 1)\n",
       "sign: Convex.NoSign()\n",
       "vexity: Convex.ConvexVexity()\n",
       "\n",
       "subject to\n",
       "Constraint:\n",
       ">= constraint\n",
       "lhs: Variable of\n",
       "size: (1, 1)\n",
       "sign: Convex.NoSign()\n",
       "vexity: Convex.AffineVexity()\n",
       "rhs: AbstractExpr with\n",
       "head: maximum\n",
       "size: (1, 1)\n",
       "sign: Convex.NoSign()\n",
       "vexity: Convex.ConvexVexity()\n",
       "\n",
       "vexity: Convex.ConvexVexity()\n",
       "current status: not yet solved"
      ]
     },
     "execution_count": 14,
     "metadata": {},
     "output_type": "execute_result"
    }
   ],
   "source": [
    "x = Variable()\n",
    "y = Variable(4)\n",
    "objective = 2*x + 1 - sqrt(sum(y))\n",
    "constraint = x >= maximum(y)\n",
    "p = maximize(objective, constraint)"
   ]
  },
  {
   "cell_type": "code",
   "execution_count": 15,
   "metadata": {
    "collapsed": false,
    "slideshow": {
     "slide_type": "fragment"
    }
   },
   "outputs": [
    {
     "name": "stderr",
     "output_type": "stream",
     "text": [
      "\u001b[1m\u001b[31mWARNING: Problem not DCP compliant: objective is not DCP\u001b[0m\n",
      "\u001b[1m\u001b[31mWARNING: Expression not DCP compliant. Trying to solve non-DCP compliant problems can lead to unexpected behavior.\u001b[0m\n",
      "\u001b[1m\u001b[31mWARNING: Problem status Unbounded; solution may be inaccurate.\u001b[0m\n"
     ]
    }
   ],
   "source": [
    "# solve the problem\n",
    "solve!(p)\n",
    "p.status"
   ]
  },
  {
   "cell_type": "code",
   "execution_count": 16,
   "metadata": {
    "collapsed": false,
    "slideshow": {
     "slide_type": "fragment"
    }
   },
   "outputs": [
    {
     "data": {
      "text/plain": [
       "0.5000006668938292"
      ]
     },
     "execution_count": 16,
     "metadata": {},
     "output_type": "execute_result"
    }
   ],
   "source": [
    "x.value"
   ]
  },
  {
   "cell_type": "code",
   "execution_count": 17,
   "metadata": {
    "collapsed": false,
    "slideshow": {
     "slide_type": "subslide"
    }
   },
   "outputs": [
    {
     "data": {
      "text/plain": [
       "0.024631760253713966"
      ]
     },
     "execution_count": 17,
     "metadata": {},
     "output_type": "execute_result"
    }
   ],
   "source": [
    "# can evaluate expressions directly\n",
    "evaluate(constraint.rhs)"
   ]
  },
  {
   "cell_type": "markdown",
   "metadata": {},
   "source": [
    "## Problem with Complex Variable"
   ]
  },
  {
   "cell_type": "code",
   "execution_count": 18,
   "metadata": {
    "collapsed": false
   },
   "outputs": [
    {
     "data": {
      "text/plain": [
       "-8.500623003345948e-7"
      ]
     },
     "execution_count": 18,
     "metadata": {},
     "output_type": "execute_result"
    }
   ],
   "source": [
    "A = [ 0.47213595 0.11469794+0.48586827im; 0.11469794-0.48586827im  0.52786405]\n",
    "B = ComplexVariable(2, 2)\n",
    "ρ = kron(A, B)\n",
    "constraints = [partialtrace(ρ, 1, [2; 2]) == [1 0; 0 0]\n",
    "               trace(ρ) == 1\n",
    "               ρ in :SDP]\n",
    "p = satisfy(constraints)\n",
    "solve!(p)\n",
    "\n",
    "p.optval"
   ]
  },
  {
   "cell_type": "markdown",
   "metadata": {},
   "source": [
    "## Pass to solver\n",
    "\n",
    "call a `MathProgBase` solver suited for your problem class\n",
    "\n",
    "* see the [list of Convex.jl operations](http://convexjl.readthedocs.org/en/latest/operations.html) to find which cones you're using\n",
    "* see the [list of solvers](http://www.juliaopt.org/) for an up-to-date list of solvers and which cones they support"
   ]
  },
  {
   "cell_type": "markdown",
   "metadata": {},
   "source": [
    "to solve problem using a different solver, just import the solver package and pass the solver to the `solve!` method: eg\n",
    "\n",
    "    using Mosek\n",
    "    solve!(p, MosekSolver())"
   ]
  },
  {
   "cell_type": "markdown",
   "metadata": {},
   "source": [
    "## Warmstart"
   ]
  },
  {
   "cell_type": "code",
   "execution_count": 19,
   "metadata": {
    "collapsed": false
   },
   "outputs": [
    {
     "name": "stdout",
     "output_type": "stream",
     "text": [
      "  0.103725 seconds (20.68 k allocations: 9.720 MB)\n",
      "  0.162183 seconds (67.22 k allocations: 11.575 MB, 4.75% gc time)\n"
     ]
    }
   ],
   "source": [
    "# Generate random problem data\n",
    "m = 100;  n = 200\n",
    "A = randn(m, n)\n",
    "x♮ = sprand(n, 1, .5) # true (sparse nonnegative) parameter vector\n",
    "noise = .1*randn(m)    # gaussian noise\n",
    "b = A*x♮ + noise      # noisy linear observations\n",
    "\n",
    "# Create a (column vector) variable of size n.\n",
    "x = Variable(n)\n",
    "\n",
    "# nonnegative elastic net with regularization\n",
    "λ = 1\n",
    "μ = 1\n",
    "problem = minimize(norm(A * x - b)^2 + λ*norm(x)^2 + μ*norm(x, 1), \n",
    "                   x >= 0)\n",
    "@time solve!(problem)\n",
    "λ = 1.5\n",
    "@time solve!(problem, warmstart = true)"
   ]
  },
  {
   "cell_type": "markdown",
   "metadata": {
    "slideshow": {
     "slide_type": "slide"
    }
   },
   "source": [
    "# DCP examples"
   ]
  },
  {
   "cell_type": "code",
   "execution_count": 20,
   "metadata": {
    "collapsed": false,
    "slideshow": {
     "slide_type": "subslide"
    }
   },
   "outputs": [
    {
     "data": {
      "text/plain": [
       "AbstractExpr with\n",
       "head: +\n",
       "size: (1, 1)\n",
       "sign: Convex.NoSign()\n",
       "vexity: Convex.AffineVexity()\n"
      ]
     },
     "execution_count": 20,
     "metadata": {},
     "output_type": "execute_result"
    }
   ],
   "source": [
    "# affine\n",
    "x = Variable(4)\n",
    "y = Variable(2)\n",
    "sum(x) + y[2]"
   ]
  },
  {
   "cell_type": "code",
   "execution_count": 21,
   "metadata": {
    "collapsed": false
   },
   "outputs": [
    {
     "data": {
      "text/plain": [
       "AbstractExpr with\n",
       "head: +\n",
       "size: (1, 1)\n",
       "sign: Convex.NoSign()\n",
       "vexity: Convex.ConvexVexity()\n"
      ]
     },
     "execution_count": 21,
     "metadata": {},
     "output_type": "execute_result"
    }
   ],
   "source": [
    "2*maximum(x) + 4*sum(y) - sqrt(y[1] + x[1]) - 7 * minimum(x[2:4])"
   ]
  },
  {
   "cell_type": "code",
   "execution_count": 22,
   "metadata": {
    "collapsed": false,
    "slideshow": {
     "slide_type": "subslide"
    }
   },
   "outputs": [
    {
     "data": {
      "text/plain": [
       "AbstractExpr with\n",
       "head: +\n",
       "size: (4, 1)\n",
       "sign: Convex.NoSign()\n",
       "vexity: Convex.NotDcp()\n"
      ]
     },
     "execution_count": 22,
     "metadata": {},
     "output_type": "execute_result"
    }
   ],
   "source": [
    "# not dcp compliant\n",
    "log(x) + x.^2"
   ]
  },
  {
   "cell_type": "code",
   "execution_count": 23,
   "metadata": {
    "collapsed": false,
    "slideshow": {
     "slide_type": "subslide"
    }
   },
   "outputs": [
    {
     "name": "stderr",
     "output_type": "stream",
     "text": [
      "\u001b[1m\u001b[31mWARNING: Expression not DCP compliant. Trying to solve non-DCP compliant problems can lead to unexpected behavior.\u001b[0m\n"
     ]
    },
    {
     "data": {
      "text/plain": [
       "AbstractExpr with\n",
       "head: qol_elem\n",
       "size: (4, 1)\n",
       "sign: Convex.Positive()\n",
       "vexity: Convex.ConvexVexity()\n"
      ]
     },
     "execution_count": 23,
     "metadata": {},
     "output_type": "execute_result"
    }
   ],
   "source": [
    "# $f$ is convex increasing and $g$ is convex\n",
    "square(pos(x))"
   ]
  },
  {
   "cell_type": "code",
   "execution_count": 24,
   "metadata": {
    "collapsed": false,
    "slideshow": {
     "slide_type": "subslide"
    }
   },
   "outputs": [
    {
     "data": {
      "text/plain": [
       "AbstractExpr with\n",
       "head: qol_elem\n",
       "size: (4, 1)\n",
       "sign: Convex.Positive()\n",
       "vexity: Convex.ConvexVexity()\n"
      ]
     },
     "execution_count": 24,
     "metadata": {},
     "output_type": "execute_result"
    }
   ],
   "source": [
    "# $f$ is convex decreasing and $g$ is concave \n",
    "invpos(sqrt(x))"
   ]
  },
  {
   "cell_type": "code",
   "execution_count": 25,
   "metadata": {
    "collapsed": false,
    "slideshow": {
     "slide_type": "subslide"
    }
   },
   "outputs": [
    {
     "data": {
      "text/plain": [
       "AbstractExpr with\n",
       "head: geomean\n",
       "size: (4, 1)\n",
       "sign: Convex.Positive()\n",
       "vexity: Convex.ConcaveVexity()\n"
      ]
     },
     "execution_count": 25,
     "metadata": {},
     "output_type": "execute_result"
    }
   ],
   "source": [
    "# $f$ is concave increasing and $g$ is concave \n",
    "sqrt(sqrt(x))"
   ]
  }
 ],
 "metadata": {
  "kernelspec": {
   "display_name": "Julia 0.5.0",
   "language": "julia",
   "name": "julia-0.5"
  },
  "language_info": {
   "file_extension": ".jl",
   "mimetype": "application/julia",
   "name": "julia",
   "version": "0.5.0"
  }
 },
 "nbformat": 4,
 "nbformat_minor": 0
}
